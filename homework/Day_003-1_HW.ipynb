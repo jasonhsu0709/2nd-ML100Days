{
 "cells": [
  {
   "cell_type": "markdown",
   "metadata": {},
   "source": [
    "## 練習時間\n",
    "在小量的資料上，我們用眼睛就可以看得出來程式碼是否有跑出我們理想中的結果\n",
    "\n",
    "請嘗試想像一個你需要的資料結構 (裡面的值可以是隨機的)，然後用上述的方法把它變成 pandas DataFrame\n",
    "\n",
    "#### Ex: 想像一個 dataframe 有兩個欄位，一個是國家，一個是人口，求人口數最多的國家\n",
    "\n",
    "### Hints: [隨機產生數值](https://blog.csdn.net/christianashannon/article/details/78867204)"
   ]
  },
  {
   "cell_type": "code",
   "execution_count": 2,
   "metadata": {},
   "outputs": [],
   "source": [
    "import pandas as pd\n",
    "import numpy as np\n",
    "import random"
   ]
  },
  {
   "cell_type": "code",
   "execution_count": 97,
   "metadata": {},
   "outputs": [
    {
     "name": "stdout",
     "output_type": "stream",
     "text": [
      "       國家            人口\n",
      "0  Taiwan  850464718474\n",
      "1      US   26312169709\n",
      "2   China  549048904457\n",
      "人口數最多國家為：Taiwan\n"
     ]
    }
   ],
   "source": [
    "data = {'國家': ['Taiwan', 'US', 'China'],        \n",
    "        '人口': [int(random.random()*random.randrange(1000, 10000000000000, 10)),\n",
    "               int(random.random()*random.randrange(1000, 10000000000000, 10)),\n",
    "               int(random.random()*random.randrange(1000, 10000000000000, 10))]}\n",
    "person = pd.DataFrame(data)\n",
    "print(person)\n",
    "print('人口數最多國家為：'+person['國家'][person['人口'].idxmax()])"
   ]
  },
  {
   "cell_type": "code",
   "execution_count": 52,
   "metadata": {},
   "outputs": [
    {
     "name": "stdout",
     "output_type": "stream",
     "text": [
      "1383292517001\n"
     ]
    }
   ],
   "source": [
    "n=int(random.random()*random.randrange(1000, 10000000000000, 10))\n",
    "print(n)"
   ]
  }
 ],
 "metadata": {
  "kernelspec": {
   "display_name": "Python 3",
   "language": "python",
   "name": "python3"
  },
  "language_info": {
   "codemirror_mode": {
    "name": "ipython",
    "version": 3
   },
   "file_extension": ".py",
   "mimetype": "text/x-python",
   "name": "python",
   "nbconvert_exporter": "python",
   "pygments_lexer": "ipython3",
   "version": "3.7.3"
  }
 },
 "nbformat": 4,
 "nbformat_minor": 2
}
